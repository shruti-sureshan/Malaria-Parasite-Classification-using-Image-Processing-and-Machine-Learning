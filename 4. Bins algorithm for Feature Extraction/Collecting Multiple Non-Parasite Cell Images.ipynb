{
 "cells": [
  {
   "cell_type": "code",
   "execution_count": 1,
   "metadata": {},
   "outputs": [],
   "source": [
    "from os import listdir, path\n",
    "from math import floor\n",
    "from skimage import io\n",
    "import cv2\n",
    "import numpy as np\n",
    "#malaria_dataset_path = r'C:\\Users\\USER\\Downloads\\cell_images'\n",
    "parasitized_dir = r'C:\\Users\\USER\\Downloads\\cell_images\\Parasitized'\n",
    "uninfected_dir = r'C:\\Users\\USER\\Downloads\\cell_images\\Uninfected'"
   ]
  },
  {
   "cell_type": "code",
   "execution_count": 2,
   "metadata": {},
   "outputs": [],
   "source": [
    "import csv\n",
    "def getbins(cell_images_path):\n",
    "    cell_image_files = listdir(cell_images_path)\n",
    "    cell_image_files.sort()\n",
    "    num_cell_images = len(cell_image_files)\n",
    "    data = np.zeros((num_cell_images,50,50,3))\n",
    "    with open('image_bins_nonpar2.csv', 'w', newline='') as f:\n",
    "        hey = csv.writer(f)\n",
    "        for cell_image_file in cell_image_files:\n",
    "            cell_image = io.imread(path.join(cell_images_path, cell_image_file))\n",
    "            M,N = cell_image.size\n",
    "            r,g,b = cell_image.split()\n",
    "            rd = np.asarray(r)\n",
    "            gd = np.asarray(g)\n",
    "            bd = np.asarray(b)\n",
    "            data[0] = rd.mean()\n",
    "            data[1] = gd.mean()\n",
    "            data[2] = bd.mean()\n",
    "            data[3] = rd.std()\n",
    "            data[4] = gd.std()\n",
    "            data[5] = bd.std()\n",
    "            data[6] = var(rd)\n",
    "            data[7] = var(gd)\n",
    "            data[8] = var(bd)\n",
    "            hey.writerow([data[0],data[1],data[2],data[3],data[4],data[5],data[6],data[7],data[8]])\n",
    "    \n",
    "    data = data.astype('float32')\n",
    "    return data\n",
    "        "
   ]
  },
  {
   "cell_type": "code",
   "execution_count": 3,
   "metadata": {},
   "outputs": [],
   "source": [
    "sample_dir = r'C:\\Users\\USER\\Downloads\\cell_images\\Clean\\samplenp'\n",
    "getcsvfile = getbins(sample_dir)"
   ]
  },
  {
   "cell_type": "code",
   "execution_count": null,
   "metadata": {},
   "outputs": [],
   "source": []
  }
 ],
 "metadata": {
  "kernelspec": {
   "display_name": "Python 3",
   "language": "python",
   "name": "python3"
  },
  "language_info": {
   "codemirror_mode": {
    "name": "ipython",
    "version": 3
   },
   "file_extension": ".py",
   "mimetype": "text/x-python",
   "name": "python",
   "nbconvert_exporter": "python",
   "pygments_lexer": "ipython3",
   "version": "3.7.3"
  }
 },
 "nbformat": 4,
 "nbformat_minor": 4
}
