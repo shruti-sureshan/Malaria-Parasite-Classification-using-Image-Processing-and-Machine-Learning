{
 "cells": [
  {
   "cell_type": "code",
   "execution_count": 1,
   "metadata": {},
   "outputs": [],
   "source": [
    "import pandas as pd\n",
    "import numpy as np\n",
    "import matplotlib.pyplot as plt"
   ]
  },
  {
   "cell_type": "code",
   "execution_count": 2,
   "metadata": {},
   "outputs": [
    {
     "data": {
      "text/html": [
       "<div>\n",
       "<style scoped>\n",
       "    .dataframe tbody tr th:only-of-type {\n",
       "        vertical-align: middle;\n",
       "    }\n",
       "\n",
       "    .dataframe tbody tr th {\n",
       "        vertical-align: top;\n",
       "    }\n",
       "\n",
       "    .dataframe thead th {\n",
       "        text-align: right;\n",
       "    }\n",
       "</style>\n",
       "<table border=\"1\" class=\"dataframe\">\n",
       "  <thead>\n",
       "    <tr style=\"text-align: right;\">\n",
       "      <th></th>\n",
       "      <th>Bins0</th>\n",
       "      <th>Bins1</th>\n",
       "      <th>Bins2</th>\n",
       "      <th>Bins3</th>\n",
       "      <th>Bins4</th>\n",
       "      <th>Bins5</th>\n",
       "      <th>Bins6</th>\n",
       "      <th>Bins7</th>\n",
       "      <th>Class</th>\n",
       "    </tr>\n",
       "  </thead>\n",
       "  <tbody>\n",
       "    <tr>\n",
       "      <th>0</th>\n",
       "      <td>5345</td>\n",
       "      <td>12</td>\n",
       "      <td>0</td>\n",
       "      <td>0</td>\n",
       "      <td>0</td>\n",
       "      <td>58</td>\n",
       "      <td>0</td>\n",
       "      <td>15601</td>\n",
       "      <td>1</td>\n",
       "    </tr>\n",
       "    <tr>\n",
       "      <th>1</th>\n",
       "      <td>6582</td>\n",
       "      <td>2</td>\n",
       "      <td>0</td>\n",
       "      <td>0</td>\n",
       "      <td>0</td>\n",
       "      <td>130</td>\n",
       "      <td>0</td>\n",
       "      <td>13024</td>\n",
       "      <td>1</td>\n",
       "    </tr>\n",
       "    <tr>\n",
       "      <th>2</th>\n",
       "      <td>7612</td>\n",
       "      <td>0</td>\n",
       "      <td>0</td>\n",
       "      <td>0</td>\n",
       "      <td>50</td>\n",
       "      <td>127</td>\n",
       "      <td>0</td>\n",
       "      <td>16419</td>\n",
       "      <td>1</td>\n",
       "    </tr>\n",
       "    <tr>\n",
       "      <th>3</th>\n",
       "      <td>5145</td>\n",
       "      <td>12</td>\n",
       "      <td>0</td>\n",
       "      <td>0</td>\n",
       "      <td>0</td>\n",
       "      <td>259</td>\n",
       "      <td>0</td>\n",
       "      <td>13044</td>\n",
       "      <td>1</td>\n",
       "    </tr>\n",
       "    <tr>\n",
       "      <th>4</th>\n",
       "      <td>4065</td>\n",
       "      <td>0</td>\n",
       "      <td>0</td>\n",
       "      <td>0</td>\n",
       "      <td>4</td>\n",
       "      <td>850</td>\n",
       "      <td>0</td>\n",
       "      <td>9815</td>\n",
       "      <td>1</td>\n",
       "    </tr>\n",
       "  </tbody>\n",
       "</table>\n",
       "</div>"
      ],
      "text/plain": [
       "   Bins0  Bins1  Bins2  Bins3  Bins4  Bins5  Bins6  Bins7  Class\n",
       "0   5345     12      0      0      0     58      0  15601      1\n",
       "1   6582      2      0      0      0    130      0  13024      1\n",
       "2   7612      0      0      0     50    127      0  16419      1\n",
       "3   5145     12      0      0      0    259      0  13044      1\n",
       "4   4065      0      0      0      4    850      0   9815      1"
      ]
     },
     "execution_count": 2,
     "metadata": {},
     "output_type": "execute_result"
    }
   ],
   "source": [
    "cell_df = pd.read_csv('image_bins_all.csv')\n",
    "cell_df.head()"
   ]
  },
  {
   "cell_type": "code",
   "execution_count": 3,
   "metadata": {},
   "outputs": [
    {
     "data": {
      "text/html": [
       "<div>\n",
       "<style scoped>\n",
       "    .dataframe tbody tr th:only-of-type {\n",
       "        vertical-align: middle;\n",
       "    }\n",
       "\n",
       "    .dataframe tbody tr th {\n",
       "        vertical-align: top;\n",
       "    }\n",
       "\n",
       "    .dataframe thead th {\n",
       "        text-align: right;\n",
       "    }\n",
       "</style>\n",
       "<table border=\"1\" class=\"dataframe\">\n",
       "  <thead>\n",
       "    <tr style=\"text-align: right;\">\n",
       "      <th></th>\n",
       "      <th>Bins0</th>\n",
       "      <th>Bins1</th>\n",
       "      <th>Bins2</th>\n",
       "      <th>Bins3</th>\n",
       "      <th>Bins4</th>\n",
       "      <th>Bins5</th>\n",
       "      <th>Bins6</th>\n",
       "      <th>Bins7</th>\n",
       "      <th>Class</th>\n",
       "    </tr>\n",
       "  </thead>\n",
       "  <tbody>\n",
       "    <tr>\n",
       "      <th>23995</th>\n",
       "      <td>7083</td>\n",
       "      <td>1</td>\n",
       "      <td>0</td>\n",
       "      <td>0</td>\n",
       "      <td>11</td>\n",
       "      <td>32</td>\n",
       "      <td>0</td>\n",
       "      <td>14741</td>\n",
       "      <td>0</td>\n",
       "    </tr>\n",
       "    <tr>\n",
       "      <th>23996</th>\n",
       "      <td>6192</td>\n",
       "      <td>0</td>\n",
       "      <td>0</td>\n",
       "      <td>0</td>\n",
       "      <td>0</td>\n",
       "      <td>0</td>\n",
       "      <td>0</td>\n",
       "      <td>15268</td>\n",
       "      <td>0</td>\n",
       "    </tr>\n",
       "    <tr>\n",
       "      <th>23997</th>\n",
       "      <td>8658</td>\n",
       "      <td>0</td>\n",
       "      <td>0</td>\n",
       "      <td>0</td>\n",
       "      <td>0</td>\n",
       "      <td>0</td>\n",
       "      <td>0</td>\n",
       "      <td>15340</td>\n",
       "      <td>0</td>\n",
       "    </tr>\n",
       "    <tr>\n",
       "      <th>23998</th>\n",
       "      <td>5601</td>\n",
       "      <td>0</td>\n",
       "      <td>0</td>\n",
       "      <td>0</td>\n",
       "      <td>0</td>\n",
       "      <td>0</td>\n",
       "      <td>0</td>\n",
       "      <td>15415</td>\n",
       "      <td>0</td>\n",
       "    </tr>\n",
       "    <tr>\n",
       "      <th>23999</th>\n",
       "      <td>4380</td>\n",
       "      <td>0</td>\n",
       "      <td>0</td>\n",
       "      <td>0</td>\n",
       "      <td>0</td>\n",
       "      <td>0</td>\n",
       "      <td>0</td>\n",
       "      <td>13708</td>\n",
       "      <td>0</td>\n",
       "    </tr>\n",
       "  </tbody>\n",
       "</table>\n",
       "</div>"
      ],
      "text/plain": [
       "       Bins0  Bins1  Bins2  Bins3  Bins4  Bins5  Bins6  Bins7  Class\n",
       "23995   7083      1      0      0     11     32      0  14741      0\n",
       "23996   6192      0      0      0      0      0      0  15268      0\n",
       "23997   8658      0      0      0      0      0      0  15340      0\n",
       "23998   5601      0      0      0      0      0      0  15415      0\n",
       "23999   4380      0      0      0      0      0      0  13708      0"
      ]
     },
     "execution_count": 3,
     "metadata": {},
     "output_type": "execute_result"
    }
   ],
   "source": [
    "cell_df.tail()"
   ]
  },
  {
   "cell_type": "code",
   "execution_count": 4,
   "metadata": {},
   "outputs": [
    {
     "data": {
      "text/plain": [
       "(24000, 9)"
      ]
     },
     "execution_count": 4,
     "metadata": {},
     "output_type": "execute_result"
    }
   ],
   "source": [
    "cell_df.shape"
   ]
  },
  {
   "cell_type": "code",
   "execution_count": 5,
   "metadata": {},
   "outputs": [
    {
     "data": {
      "text/plain": [
       "216000"
      ]
     },
     "execution_count": 5,
     "metadata": {},
     "output_type": "execute_result"
    }
   ],
   "source": [
    "cell_df.size"
   ]
  },
  {
   "cell_type": "code",
   "execution_count": 6,
   "metadata": {},
   "outputs": [
    {
     "data": {
      "text/plain": [
       "Bins0    24000\n",
       "Bins1    24000\n",
       "Bins2    24000\n",
       "Bins3    24000\n",
       "Bins4    24000\n",
       "Bins5    24000\n",
       "Bins6    24000\n",
       "Bins7    24000\n",
       "Class    24000\n",
       "dtype: int64"
      ]
     },
     "execution_count": 6,
     "metadata": {},
     "output_type": "execute_result"
    }
   ],
   "source": [
    "cell_df.count()"
   ]
  },
  {
   "cell_type": "code",
   "execution_count": 7,
   "metadata": {},
   "outputs": [
    {
     "data": {
      "text/plain": [
       "1    12000\n",
       "0    12000\n",
       "Name: Class, dtype: int64"
      ]
     },
     "execution_count": 7,
     "metadata": {},
     "output_type": "execute_result"
    }
   ],
   "source": [
    "cell_df['Class'].value_counts()"
   ]
  },
  {
   "cell_type": "code",
   "execution_count": 8,
   "metadata": {},
   "outputs": [
    {
     "data": {
      "text/plain": [
       "<matplotlib.axes._subplots.AxesSubplot at 0x1a84a2bd188>"
      ]
     },
     "execution_count": 8,
     "metadata": {},
     "output_type": "execute_result"
    },
    {
     "data": {
      "image/png": "[encoded data removed]",
      "text/plain": [
       "<Figure size 432x288 with 1 Axes>"
      ]
     },
     "metadata": {
      "needs_background": "light"
     },
     "output_type": "display_data"
    }
   ],
   "source": [
    "#Distribution of the classes\n",
    "parasitized_df = cell_df[cell_df['Class']==1][0:200]\n",
    "uninfected_df = cell_df[cell_df['Class']==0][0:200]\n",
    "\n",
    "axes = parasitized_df.plot(kind='scatter', x='Bins0',y='Bins7',color='blue',label='Parasitized')\n",
    "uninfected_df.plot(kind='scatter', x='Bins0',y='Bins7',color='red',label='Uninfected', ax=axes)\n"
   ]
  },
  {
   "cell_type": "code",
   "execution_count": 9,
   "metadata": {},
   "outputs": [
    {
     "data": {
      "text/plain": [
       "Bins0    int64\n",
       "Bins1    int64\n",
       "Bins2    int64\n",
       "Bins3    int64\n",
       "Bins4    int64\n",
       "Bins5    int64\n",
       "Bins6    int64\n",
       "Bins7    int64\n",
       "Class    int64\n",
       "dtype: object"
      ]
     },
     "execution_count": 9,
     "metadata": {},
     "output_type": "execute_result"
    }
   ],
   "source": [
    "#Identifying Unwanted Rows\n",
    "cell_df.dtypes"
   ]
  },
  {
   "cell_type": "code",
   "execution_count": 10,
   "metadata": {},
   "outputs": [
    {
     "data": {
      "text/plain": [
       "array([[ 5345,    12,     0,     0,     0,    58,     0, 15601],\n",
       "       [ 6582,     2,     0,     0,     0,   130,     0, 13024],\n",
       "       [ 7612,     0,     0,     0,    50,   127,     0, 16419],\n",
       "       [ 5145,    12,     0,     0,     0,   259,     0, 13044],\n",
       "       [ 4065,     0,     0,     0,     4,   850,     0,  9815]],\n",
       "      dtype=int64)"
      ]
     },
     "execution_count": 10,
     "metadata": {},
     "output_type": "execute_result"
    }
   ],
   "source": [
    "#Remove unwanted columns\n",
    "cell_df.columns\n",
    "#Creating a Feature Dataframe\n",
    "feature_df = cell_df[['Bins0', 'Bins1', 'Bins2','Bins3', 'Bins4', 'Bins5', 'Bins6', 'Bins7']]\n",
    "\n",
    "# Cel_df 100 rows and 11 columns\n",
    "#Only Picked 9 columns out of 11\n",
    "\n",
    "#Independent Variable\n",
    "X = np.asarray(feature_df)\n",
    "\n",
    "#Dependent Variable\n",
    "y = np.asarray(cell_df['Class'])\n",
    "\n",
    "X[0:5]"
   ]
  },
  {
   "cell_type": "code",
   "execution_count": 11,
   "metadata": {},
   "outputs": [
    {
     "data": {
      "text/plain": [
       "(4800,)"
      ]
     },
     "execution_count": 11,
     "metadata": {},
     "output_type": "execute_result"
    }
   ],
   "source": [
    "#Divide the data as Train/Test dataset\n",
    "'''\n",
    "cell_df --> Train (80 rows)/Test (20 rows)\n",
    "Train(X,y) ##X is a 2D array ; \n",
    "Test(X,y) \n",
    "'''\n",
    "from sklearn.model_selection import train_test_split\n",
    "X_train, X_test, y_train, y_test = train_test_split(X, y, test_size = 0.2, random_state = 4)\n",
    "\n",
    "#1617 rows x 8 columns for training IV\n",
    "X_train.shape\n",
    "\n",
    "#1617 rows x 1 columns for training DV\n",
    "y_train.shape\n",
    "\n",
    "#405 rows x 8 columns for testing IV\n",
    "X_test.shape\n",
    "\n",
    "#405 rows x 1 columns for testing DV\n",
    "y_test.shape"
   ]
  },
  {
   "cell_type": "code",
   "execution_count": 12,
   "metadata": {},
   "outputs": [],
   "source": [
    "from sklearn import svm\n",
    "\n",
    "classifier = svm.SVC(kernel='linear', gamma='auto', C=2)\n",
    "classifier.fit(X_train, y_train)\n",
    "\n",
    "y_predict = classifier.predict(X_test)"
   ]
  },
  {
   "cell_type": "code",
   "execution_count": 13,
   "metadata": {},
   "outputs": [
    {
     "name": "stdout",
     "output_type": "stream",
     "text": [
      "              precision    recall  f1-score   support\n",
      "\n",
      "           0       0.89      0.98      0.93      2341\n",
      "           1       0.98      0.88      0.93      2459\n",
      "\n",
      "    accuracy                           0.93      4800\n",
      "   macro avg       0.93      0.93      0.93      4800\n",
      "weighted avg       0.94      0.93      0.93      4800\n",
      "\n"
     ]
    }
   ],
   "source": [
    "from sklearn.metrics import classification_report\n",
    "\n",
    "print(classification_report(y_test, y_predict))"
   ]
  },
  {
   "cell_type": "code",
   "execution_count": 15,
   "metadata": {},
   "outputs": [
    {
     "name": "stdout",
     "output_type": "stream",
     "text": [
      "[[2301   40]\n",
      " [ 293 2166]]\n",
      "Accuracy: 0.931\n",
      "F1 Score: 0.929\n",
      "Sensitivity: 0.881\n",
      "Precision: 0.982\n",
      "Recall: 0.881\n"
     ]
    }
   ],
   "source": [
    "from sklearn import svm, metrics\n",
    "from sklearn.metrics import confusion_matrix\n",
    "import seaborn as sns\n",
    "print(confusion_matrix(y_test, y_predict))\n",
    "\n",
    "print('Accuracy: {0:.3f}'.format(metrics.accuracy_score(y_test, y_predict)))\n",
    "print('F1 Score: {0:.3f}'.format(metrics.f1_score(y_test, y_predict)))\n",
    "print('Sensitivity: {0:.3f}'.format(metrics.recall_score(y_test, y_predict)))\n",
    "print('Precision: {0:.3f}'.format(metrics.precision_score(y_test, y_predict)))\n",
    "print('Recall: {0:.3f}'.format(metrics.recall_score(y_test, y_predict)))"
   ]
  },
  {
   "cell_type": "code",
   "execution_count": null,
   "metadata": {},
   "outputs": [],
   "source": [
    "from tkinter import *\n",
    "from tkinter import ttk\n",
    "from tkinter import filedialog\n",
    "import numpy as np\n",
    "import cv2\n",
    " \n",
    "def getbins(cell_image):\n",
    "        a = np.array(cell_image[:,:,0], dtype = np.uint8)\n",
    "        d = dict()\n",
    "        for i in range (0,256):\n",
    "            d[i]=0\n",
    "\n",
    "        x = []\n",
    "        for i in range (0,256):\n",
    "            x.append(i)    \n",
    "\n",
    "        y = []\n",
    "        for i in range (0,256):\n",
    "            y.append(d[i])\n",
    "            \n",
    "        num = 0\n",
    "        den = 0\n",
    "        for i in a.flatten():\n",
    "            d[i] = d.get(i,0) + 1\n",
    "\n",
    "        b = 0\n",
    "        for i in x:\n",
    "            b = d.get(i,0) + 1\n",
    "            num = num + b*i\n",
    "            den = den + b\n",
    "        cogr = num / den\n",
    "        \n",
    "        a = np.array(cell_image[:,:,1], dtype = np.uint8)\n",
    "        d = dict()\n",
    "        for i in range (0,256):\n",
    "            d[i]=0\n",
    "\n",
    "        x = []\n",
    "        for i in range (0,256):\n",
    "            x.append(i)    \n",
    "\n",
    "        y = []\n",
    "        for i in range (0,256):\n",
    "            y.append(d[i])\n",
    "\n",
    "        num = 0\n",
    "        den = 0\n",
    "        for i in a.flatten():\n",
    "            d[i] = d.get(i,0) + 1\n",
    "\n",
    "        b = 0\n",
    "        for i in x:\n",
    "            b = d.get(i,0) + 1\n",
    "            num = num + b*i\n",
    "            den = den + b\n",
    "            cogg = num / den\n",
    "        \n",
    "        a = np.array(cell_image[:,:,2], dtype = np.uint8)\n",
    "        d = dict()\n",
    "        for i in range (0,256):\n",
    "            d[i]=0\n",
    "\n",
    "        x = []\n",
    "        for i in range (0,256):\n",
    "            x.append(i)    \n",
    "\n",
    "        y = []\n",
    "        for i in range (0,256):\n",
    "            y.append(d[i])\n",
    "\n",
    "        num = 0\n",
    "        den = 0\n",
    "        for i in a.flatten():\n",
    "            d[i] = d.get(i,0) + 1\n",
    "\n",
    "        b = 0\n",
    "        for i in x:\n",
    "            b = d.get(i,0) + 1\n",
    "            num = num + b*i\n",
    "            den = den + b\n",
    "        cogb = num / den\n",
    "        \n",
    "        h, w, _ = cell_image.shape\n",
    "        R, G, B = 0, 1, 2\n",
    "\n",
    "        for color, cog in [(R, cogr), (G, cogg), (B, cogb)]:\n",
    "            for r in range(h):\n",
    "                for c in range(w):\n",
    "                    if cell_image[r, c, color] <= cog:\n",
    "                        cell_image[r, c, color] = 0\n",
    "                    else:\n",
    "                        cell_image[r, c, color] = 1\n",
    "        \n",
    "        bins0 = 0\n",
    "        bins1 = 0\n",
    "        bins2 = 0\n",
    "        bins3 = 0\n",
    "        bins4 = 0\n",
    "        bins5 = 0\n",
    "        bins6 = 0\n",
    "        bins7 = 0\n",
    "        for i in range(h):\n",
    "            for j in range(w):\n",
    "                r= cell_image[i,j,0];\n",
    "                g= cell_image[i,j,1];\n",
    "                b= cell_image[i,j,2];\n",
    "        \n",
    "                if r==0 and g==0 and b==0:\n",
    "                        bins0= bins0 + 1\n",
    "                elif r==0 and g==0 and b==1:\n",
    "                        bins1= bins1 + 1\n",
    "                elif r==0 and g==1 and b==0:\n",
    "                        bins2= bins2 + 1\n",
    "                elif r==0 and g==1 and b==1:\n",
    "                        bins3= bins3 + 1\n",
    "                elif r==1 and g==0 and b==0:\n",
    "                        bins4= bins4 + 1\n",
    "                elif r==1 and g==0 and b==1:\n",
    "                        bins5= bins5 + 1\n",
    "                elif r==1 and g==1 and b==0:\n",
    "                        bins6= bins6 + 1\n",
    "                elif r==1 and g==1 and b==1:\n",
    "                        bins7= bins7 + 1\n",
    "                        \n",
    "        l=[]\n",
    "        l.extend([bins0, bins1, bins2, bins3, bins4, bins5, bins6, bins7])\n",
    "        \n",
    "        return l\n",
    "\n",
    "class Root(Tk):\n",
    "    def __init__(self):\n",
    "        super(Root, self).__init__()\n",
    "        self.title(\"Python Tkinter Dialog Widget\")\n",
    "        self.minsize(640, 400)\n",
    "        self.labelFrame = ttk.LabelFrame(self, text = \"Open File\")\n",
    "        self.labelFrame.grid(column = 0, row = 1, padx = 20, pady = 20)\n",
    "        self.button()\n",
    "        self.button1() \n",
    " \n",
    "    def button(self):\n",
    "        self.button = ttk.Button(self.labelFrame, text = \"Browse A File\",command = self.fileDialog)\n",
    "        self.button.grid(column = 1, row = 1)\n",
    "  \n",
    "    def fileDialog(self):\n",
    "        self.filename = filedialog.askopenfilename(initialdir =  \"/\", title = \"Select A File\", filetype =\n",
    "        ((\"png files\",\"*.png\"),(\"all files\",\"*.*\")) )\n",
    "        self.label = ttk.Label(self.labelFrame, text = \"\")\n",
    "        self.label.grid(column = 1, row = 2)\n",
    "        self.label.configure(text = self.filename)\n",
    " \n",
    "    def button1(self):\n",
    "        self.button = ttk.Button(self.labelFrame, text = \"submit\", command = self.get_prediction)\n",
    "        self.button.grid(column = 1, row = 20)\n",
    "        \n",
    "    \n",
    "    def get_prediction(self):\n",
    "        my_image = cv2.imread(self.filename)\n",
    "        dst = cv2.fastNlMeansDenoisingColored(my_image,None,10,10,7,29)\n",
    "        h = getbins(dst)\n",
    "        y=classifier.predict([h])\n",
    "        if(y==1):\n",
    "            self.label.configure(text=\"The Cell Image (using Bins Approach) is Parasitic\")\n",
    "        else:\n",
    "            self.label.configure(text=\"The Cell Image (using Bins Approach) is Non-Parasitic\") \n",
    "root = Root()\n",
    "root.mainloop() "
   ]
  },
  {
   "cell_type": "code",
   "execution_count": null,
   "metadata": {},
   "outputs": [],
   "source": []
  }
 ],
 "metadata": {
  "kernelspec": {
   "display_name": "Python 3",
   "language": "python",
   "name": "python3"
  },
  "language_info": {
   "codemirror_mode": {
    "name": "ipython",
    "version": 3
   },
   "file_extension": ".py",
   "mimetype": "text/x-python",
   "name": "python",
   "nbconvert_exporter": "python",
   "pygments_lexer": "ipython3",
   "version": "3.7.6"
  }
 },
 "nbformat": 4,
 "nbformat_minor": 4
}
