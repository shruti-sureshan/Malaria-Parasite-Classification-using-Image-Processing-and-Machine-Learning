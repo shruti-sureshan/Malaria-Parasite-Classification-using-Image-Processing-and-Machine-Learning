{
 "cells": [
  {
   "cell_type": "code",
   "execution_count": 1,
   "metadata": {},
   "outputs": [],
   "source": [
    "import pandas as pd\n",
    "import numpy as np\n",
    "import matplotlib.pyplot as plt"
   ]
  },
  {
   "cell_type": "code",
   "execution_count": 2,
   "metadata": {},
   "outputs": [
    {
     "data": {
      "text/html": [
       "<div>\n",
       "<style scoped>\n",
       "    .dataframe tbody tr th:only-of-type {\n",
       "        vertical-align: middle;\n",
       "    }\n",
       "\n",
       "    .dataframe tbody tr th {\n",
       "        vertical-align: top;\n",
       "    }\n",
       "\n",
       "    .dataframe thead th {\n",
       "        text-align: right;\n",
       "    }\n",
       "</style>\n",
       "<table border=\"1\" class=\"dataframe\">\n",
       "  <thead>\n",
       "    <tr style=\"text-align: right;\">\n",
       "      <th></th>\n",
       "      <th>var</th>\n",
       "      <th>asm</th>\n",
       "      <th>contrast</th>\n",
       "      <th>correlation</th>\n",
       "      <th>idm</th>\n",
       "      <th>entropy</th>\n",
       "      <th>homogenity</th>\n",
       "      <th>energy</th>\n",
       "      <th>dissimilarity</th>\n",
       "      <th>Class</th>\n",
       "    </tr>\n",
       "  </thead>\n",
       "  <tbody>\n",
       "    <tr>\n",
       "      <th>0</th>\n",
       "      <td>2378.244684</td>\n",
       "      <td>0.009158</td>\n",
       "      <td>1211.821712</td>\n",
       "      <td>0.797017</td>\n",
       "      <td>0.525642</td>\n",
       "      <td>7.810224</td>\n",
       "      <td>0.525642</td>\n",
       "      <td>0.095697</td>\n",
       "      <td>8.398868</td>\n",
       "      <td>1</td>\n",
       "    </tr>\n",
       "    <tr>\n",
       "      <th>1</th>\n",
       "      <td>2231.711952</td>\n",
       "      <td>0.008901</td>\n",
       "      <td>1225.951925</td>\n",
       "      <td>0.784520</td>\n",
       "      <td>0.493865</td>\n",
       "      <td>7.915158</td>\n",
       "      <td>0.493865</td>\n",
       "      <td>0.094346</td>\n",
       "      <td>8.767637</td>\n",
       "      <td>1</td>\n",
       "    </tr>\n",
       "    <tr>\n",
       "      <th>2</th>\n",
       "      <td>2054.426557</td>\n",
       "      <td>0.006830</td>\n",
       "      <td>1165.783478</td>\n",
       "      <td>0.778996</td>\n",
       "      <td>0.464011</td>\n",
       "      <td>8.416442</td>\n",
       "      <td>0.464011</td>\n",
       "      <td>0.082646</td>\n",
       "      <td>8.621760</td>\n",
       "      <td>1</td>\n",
       "    </tr>\n",
       "    <tr>\n",
       "      <th>3</th>\n",
       "      <td>1567.735710</td>\n",
       "      <td>0.008009</td>\n",
       "      <td>668.185088</td>\n",
       "      <td>0.824332</td>\n",
       "      <td>0.499687</td>\n",
       "      <td>8.325647</td>\n",
       "      <td>0.499687</td>\n",
       "      <td>0.089494</td>\n",
       "      <td>6.199938</td>\n",
       "      <td>1</td>\n",
       "    </tr>\n",
       "    <tr>\n",
       "      <th>4</th>\n",
       "      <td>1557.136176</td>\n",
       "      <td>0.004084</td>\n",
       "      <td>890.222724</td>\n",
       "      <td>0.777694</td>\n",
       "      <td>0.468373</td>\n",
       "      <td>9.291812</td>\n",
       "      <td>0.468373</td>\n",
       "      <td>0.063908</td>\n",
       "      <td>7.383222</td>\n",
       "      <td>1</td>\n",
       "    </tr>\n",
       "  </tbody>\n",
       "</table>\n",
       "</div>"
      ],
      "text/plain": [
       "           var       asm     contrast  correlation       idm   entropy  \\\n",
       "0  2378.244684  0.009158  1211.821712     0.797017  0.525642  7.810224   \n",
       "1  2231.711952  0.008901  1225.951925     0.784520  0.493865  7.915158   \n",
       "2  2054.426557  0.006830  1165.783478     0.778996  0.464011  8.416442   \n",
       "3  1567.735710  0.008009   668.185088     0.824332  0.499687  8.325647   \n",
       "4  1557.136176  0.004084   890.222724     0.777694  0.468373  9.291812   \n",
       "\n",
       "   homogenity    energy  dissimilarity  Class  \n",
       "0    0.525642  0.095697       8.398868      1  \n",
       "1    0.493865  0.094346       8.767637      1  \n",
       "2    0.464011  0.082646       8.621760      1  \n",
       "3    0.499687  0.089494       6.199938      1  \n",
       "4    0.468373  0.063908       7.383222      1  "
      ]
     },
     "execution_count": 2,
     "metadata": {},
     "output_type": "execute_result"
    }
   ],
   "source": [
    "cell_df = pd.read_csv('image_bins_GLCM_all.csv')\n",
    "cell_df.head()"
   ]
  },
  {
   "cell_type": "code",
   "execution_count": 3,
   "metadata": {},
   "outputs": [
    {
     "data": {
      "text/html": [
       "<div>\n",
       "<style scoped>\n",
       "    .dataframe tbody tr th:only-of-type {\n",
       "        vertical-align: middle;\n",
       "    }\n",
       "\n",
       "    .dataframe tbody tr th {\n",
       "        vertical-align: top;\n",
       "    }\n",
       "\n",
       "    .dataframe thead th {\n",
       "        text-align: right;\n",
       "    }\n",
       "</style>\n",
       "<table border=\"1\" class=\"dataframe\">\n",
       "  <thead>\n",
       "    <tr style=\"text-align: right;\">\n",
       "      <th></th>\n",
       "      <th>var</th>\n",
       "      <th>asm</th>\n",
       "      <th>contrast</th>\n",
       "      <th>correlation</th>\n",
       "      <th>idm</th>\n",
       "      <th>entropy</th>\n",
       "      <th>homogenity</th>\n",
       "      <th>energy</th>\n",
       "      <th>dissimilarity</th>\n",
       "      <th>Class</th>\n",
       "    </tr>\n",
       "  </thead>\n",
       "  <tbody>\n",
       "    <tr>\n",
       "      <th>23995</th>\n",
       "      <td>3098.784404</td>\n",
       "      <td>0.009958</td>\n",
       "      <td>1629.485535</td>\n",
       "      <td>0.791815</td>\n",
       "      <td>0.465724</td>\n",
       "      <td>7.693127</td>\n",
       "      <td>0.465724</td>\n",
       "      <td>0.099791</td>\n",
       "      <td>11.440960</td>\n",
       "      <td>0</td>\n",
       "    </tr>\n",
       "    <tr>\n",
       "      <th>23996</th>\n",
       "      <td>3434.118000</td>\n",
       "      <td>0.011228</td>\n",
       "      <td>1717.865733</td>\n",
       "      <td>0.799930</td>\n",
       "      <td>0.449133</td>\n",
       "      <td>7.519252</td>\n",
       "      <td>0.449133</td>\n",
       "      <td>0.105962</td>\n",
       "      <td>11.797850</td>\n",
       "      <td>0</td>\n",
       "    </tr>\n",
       "    <tr>\n",
       "      <th>23997</th>\n",
       "      <td>3206.727760</td>\n",
       "      <td>0.010502</td>\n",
       "      <td>1494.868092</td>\n",
       "      <td>0.810975</td>\n",
       "      <td>0.485321</td>\n",
       "      <td>7.508848</td>\n",
       "      <td>0.485321</td>\n",
       "      <td>0.102481</td>\n",
       "      <td>10.419465</td>\n",
       "      <td>0</td>\n",
       "    </tr>\n",
       "    <tr>\n",
       "      <th>23998</th>\n",
       "      <td>2445.464597</td>\n",
       "      <td>0.008881</td>\n",
       "      <td>1184.513247</td>\n",
       "      <td>0.805033</td>\n",
       "      <td>0.521656</td>\n",
       "      <td>7.894887</td>\n",
       "      <td>0.521656</td>\n",
       "      <td>0.094239</td>\n",
       "      <td>8.650939</td>\n",
       "      <td>0</td>\n",
       "    </tr>\n",
       "    <tr>\n",
       "      <th>23999</th>\n",
       "      <td>2851.011170</td>\n",
       "      <td>0.010815</td>\n",
       "      <td>1354.095448</td>\n",
       "      <td>0.808096</td>\n",
       "      <td>0.510640</td>\n",
       "      <td>7.551076</td>\n",
       "      <td>0.510640</td>\n",
       "      <td>0.103996</td>\n",
       "      <td>9.690645</td>\n",
       "      <td>0</td>\n",
       "    </tr>\n",
       "  </tbody>\n",
       "</table>\n",
       "</div>"
      ],
      "text/plain": [
       "               var       asm     contrast  correlation       idm   entropy  \\\n",
       "23995  3098.784404  0.009958  1629.485535     0.791815  0.465724  7.693127   \n",
       "23996  3434.118000  0.011228  1717.865733     0.799930  0.449133  7.519252   \n",
       "23997  3206.727760  0.010502  1494.868092     0.810975  0.485321  7.508848   \n",
       "23998  2445.464597  0.008881  1184.513247     0.805033  0.521656  7.894887   \n",
       "23999  2851.011170  0.010815  1354.095448     0.808096  0.510640  7.551076   \n",
       "\n",
       "       homogenity    energy  dissimilarity  Class  \n",
       "23995    0.465724  0.099791      11.440960      0  \n",
       "23996    0.449133  0.105962      11.797850      0  \n",
       "23997    0.485321  0.102481      10.419465      0  \n",
       "23998    0.521656  0.094239       8.650939      0  \n",
       "23999    0.510640  0.103996       9.690645      0  "
      ]
     },
     "execution_count": 3,
     "metadata": {},
     "output_type": "execute_result"
    }
   ],
   "source": [
    "cell_df.tail()"
   ]
  },
  {
   "cell_type": "code",
   "execution_count": 4,
   "metadata": {},
   "outputs": [
    {
     "data": {
      "text/plain": [
       "(24000, 10)"
      ]
     },
     "execution_count": 4,
     "metadata": {},
     "output_type": "execute_result"
    }
   ],
   "source": [
    "cell_df.shape"
   ]
  },
  {
   "cell_type": "code",
   "execution_count": 5,
   "metadata": {},
   "outputs": [
    {
     "data": {
      "text/plain": [
       "240000"
      ]
     },
     "execution_count": 5,
     "metadata": {},
     "output_type": "execute_result"
    }
   ],
   "source": [
    "cell_df.size"
   ]
  },
  {
   "cell_type": "code",
   "execution_count": 6,
   "metadata": {},
   "outputs": [
    {
     "data": {
      "text/plain": [
       "var              24000\n",
       "asm              24000\n",
       "contrast         24000\n",
       "correlation      24000\n",
       "idm              24000\n",
       "entropy          24000\n",
       "homogenity       24000\n",
       "energy           24000\n",
       "dissimilarity    24000\n",
       "Class            24000\n",
       "dtype: int64"
      ]
     },
     "execution_count": 6,
     "metadata": {},
     "output_type": "execute_result"
    }
   ],
   "source": [
    "cell_df.count()"
   ]
  },
  {
   "cell_type": "code",
   "execution_count": 7,
   "metadata": {},
   "outputs": [
    {
     "data": {
      "text/plain": [
       "1    12000\n",
       "0    12000\n",
       "Name: Class, dtype: int64"
      ]
     },
     "execution_count": 7,
     "metadata": {},
     "output_type": "execute_result"
    }
   ],
   "source": [
    "cell_df['Class'].value_counts()"
   ]
  },
  {
   "cell_type": "code",
   "execution_count": 8,
   "metadata": {},
   "outputs": [
    {
     "data": {
      "text/plain": [
       "var              float64\n",
       "asm              float64\n",
       "contrast         float64\n",
       "correlation      float64\n",
       "idm              float64\n",
       "entropy          float64\n",
       "homogenity       float64\n",
       "energy           float64\n",
       "dissimilarity    float64\n",
       "Class              int64\n",
       "dtype: object"
      ]
     },
     "execution_count": 8,
     "metadata": {},
     "output_type": "execute_result"
    }
   ],
   "source": [
    "#Identifying Unwanted Rows\n",
    "cell_df.dtypes"
   ]
  },
  {
   "cell_type": "code",
   "execution_count": 9,
   "metadata": {},
   "outputs": [
    {
     "data": {
      "text/plain": [
       "array([[2.37824468e+03, 9.15783100e-03, 1.21182171e+03, 7.97016920e-01,\n",
       "        5.25641774e-01, 7.81022446e+00, 5.25641774e-01, 9.56965550e-02,\n",
       "        8.39886774e+00],\n",
       "       [2.23171195e+03, 8.90121800e-03, 1.22595193e+03, 7.84519809e-01,\n",
       "        4.93865241e-01, 7.91515804e+00, 4.93865241e-01, 9.43462680e-02,\n",
       "        8.76763660e+00],\n",
       "       [2.05442656e+03, 6.83029100e-03, 1.16578348e+03, 7.78995825e-01,\n",
       "        4.64011463e-01, 8.41644189e+00, 4.64011463e-01, 8.26455740e-02,\n",
       "        8.62175959e+00],\n",
       "       [1.56773571e+03, 8.00916600e-03, 6.68185088e+02, 8.24331754e-01,\n",
       "        4.99687497e-01, 8.32564674e+00, 4.99687497e-01, 8.94939430e-02,\n",
       "        6.19993828e+00],\n",
       "       [1.55713618e+03, 4.08427000e-03, 8.90222724e+02, 7.77694458e-01,\n",
       "        4.68373399e-01, 9.29181155e+00, 4.68373399e-01, 6.39082970e-02,\n",
       "        7.38322189e+00]])"
      ]
     },
     "execution_count": 9,
     "metadata": {},
     "output_type": "execute_result"
    }
   ],
   "source": [
    "#Remove unwanted columns\n",
    "cell_df.columns\n",
    "#Creating a Feature Dataframe\n",
    "feature_df = cell_df[['var','asm','contrast','correlation','idm','entropy','homogenity','energy','dissimilarity']]\n",
    "\n",
    "# Cel_df 100 rows and 11 columns\n",
    "#Only Picked 9 columns out of 11\n",
    "\n",
    "#Independent Variable\n",
    "X = np.asarray(feature_df)\n",
    "\n",
    "#Dependent Variable\n",
    "y = np.asarray(cell_df['Class'])\n",
    "\n",
    "X[0:5]"
   ]
  },
  {
   "cell_type": "code",
   "execution_count": 10,
   "metadata": {},
   "outputs": [
    {
     "data": {
      "text/plain": [
       "(4800,)"
      ]
     },
     "execution_count": 10,
     "metadata": {},
     "output_type": "execute_result"
    }
   ],
   "source": [
    "#Divide the data as Train/Test dataset\n",
    "'''\n",
    "cell_df --> Train (80 rows)/Test (20 rows)\n",
    "Train(X,y) ##X is a 2D array ; \n",
    "Test(X,y) \n",
    "'''\n",
    "from sklearn.model_selection import train_test_split\n",
    "X_train, X_test, y_train, y_test = train_test_split(X, y, test_size = 0.2, random_state = 4)\n",
    "\n",
    "#1617 rows x 8 columns for training IV\n",
    "X_train.shape\n",
    "\n",
    "#1617 rows x 1 columns for training DV\n",
    "y_train.shape\n",
    "\n",
    "#405 rows x 8 columns for testing IV\n",
    "X_test.shape\n",
    "\n",
    "#405 rows x 1 columns for testing DV\n",
    "y_test.shape"
   ]
  },
  {
   "cell_type": "code",
   "execution_count": 11,
   "metadata": {},
   "outputs": [],
   "source": [
    "from sklearn import svm\n",
    "\n",
    "classifier = svm.SVC(kernel='linear', gamma='auto', C=2)\n",
    "classifier.fit(X_train, y_train)\n",
    "\n",
    "y_predict = classifier.predict(X_test)"
   ]
  },
  {
   "cell_type": "code",
   "execution_count": 12,
   "metadata": {},
   "outputs": [
    {
     "name": "stdout",
     "output_type": "stream",
     "text": [
      "              precision    recall  f1-score   support\n",
      "\n",
      "           0       0.77      0.84      0.80      2341\n",
      "           1       0.83      0.76      0.79      2459\n",
      "\n",
      "    accuracy                           0.80      4800\n",
      "   macro avg       0.80      0.80      0.80      4800\n",
      "weighted avg       0.80      0.80      0.80      4800\n",
      "\n"
     ]
    }
   ],
   "source": [
    "from sklearn.metrics import classification_report\n",
    "\n",
    "print(classification_report(y_test, y_predict))"
   ]
  },
  {
   "cell_type": "code",
   "execution_count": 14,
   "metadata": {},
   "outputs": [
    {
     "name": "stdout",
     "output_type": "stream",
     "text": [
      "[[1959  382]\n",
      " [ 597 1862]]\n",
      "Accuracy: 0.796\n",
      "F1 Score: 0.792\n",
      "Sensitivity: 0.757\n",
      "Precision: 0.830\n",
      "Recall: 0.757\n"
     ]
    }
   ],
   "source": [
    "from sklearn import svm, metrics\n",
    "from sklearn.metrics import confusion_matrix\n",
    "import seaborn as sns\n",
    "print(confusion_matrix(y_test, y_predict))\n",
    "\n",
    "print('Accuracy: {0:.3f}'.format(metrics.accuracy_score(y_test, y_predict)))\n",
    "print('F1 Score: {0:.3f}'.format(metrics.f1_score(y_test, y_predict)))\n",
    "print('Sensitivity: {0:.3f}'.format(metrics.recall_score(y_test, y_predict)))\n",
    "print('Precision: {0:.3f}'.format(metrics.precision_score(y_test, y_predict)))\n",
    "print('Recall: {0:.3f}'.format(metrics.recall_score(y_test, y_predict)))"
   ]
  },
  {
   "cell_type": "code",
   "execution_count": null,
   "metadata": {},
   "outputs": [],
   "source": [
    "from tkinter import *\n",
    "from tkinter import ttk\n",
    "from tkinter import filedialog\n",
    "import numpy as np\n",
    "import cv2\n",
    " \n",
    "def getbins(cell_image):\n",
    "        a = np.array(cell_image[:,:,0], dtype = np.uint8)\n",
    "        d = dict()\n",
    "        for i in range (0,256):\n",
    "            d[i]=0\n",
    "\n",
    "        x = []\n",
    "        for i in range (0,256):\n",
    "            x.append(i)    \n",
    "\n",
    "        y = []\n",
    "        for i in range (0,256):\n",
    "            y.append(d[i])\n",
    "            \n",
    "        num = 0\n",
    "        den = 0\n",
    "        for i in a.flatten():\n",
    "            d[i] = d.get(i,0) + 1\n",
    "\n",
    "        b = 0\n",
    "        for i in x:\n",
    "            b = d.get(i,0) + 1\n",
    "            num = num + b*i\n",
    "            den = den + b\n",
    "        cogr = num / den\n",
    "        \n",
    "        a = np.array(cell_image[:,:,1], dtype = np.uint8)\n",
    "        d = dict()\n",
    "        for i in range (0,256):\n",
    "            d[i]=0\n",
    "\n",
    "        x = []\n",
    "        for i in range (0,256):\n",
    "            x.append(i)    \n",
    "\n",
    "        y = []\n",
    "        for i in range (0,256):\n",
    "            y.append(d[i])\n",
    "\n",
    "        num = 0\n",
    "        den = 0\n",
    "        for i in a.flatten():\n",
    "            d[i] = d.get(i,0) + 1\n",
    "\n",
    "        b = 0\n",
    "        for i in x:\n",
    "            b = d.get(i,0) + 1\n",
    "            num = num + b*i\n",
    "            den = den + b\n",
    "            cogg = num / den\n",
    "        \n",
    "        a = np.array(cell_image[:,:,2], dtype = np.uint8)\n",
    "        d = dict()\n",
    "        for i in range (0,256):\n",
    "            d[i]=0\n",
    "\n",
    "        x = []\n",
    "        for i in range (0,256):\n",
    "            x.append(i)    \n",
    "\n",
    "        y = []\n",
    "        for i in range (0,256):\n",
    "            y.append(d[i])\n",
    "\n",
    "        num = 0\n",
    "        den = 0\n",
    "        for i in a.flatten():\n",
    "            d[i] = d.get(i,0) + 1\n",
    "\n",
    "        b = 0\n",
    "        for i in x:\n",
    "            b = d.get(i,0) + 1\n",
    "            num = num + b*i\n",
    "            den = den + b\n",
    "        cogb = num / den\n",
    "        \n",
    "        h, w, _ = cell_image.shape\n",
    "        R, G, B = 0, 1, 2\n",
    "\n",
    "        for color, cog in [(R, cogr), (G, cogg), (B, cogb)]:\n",
    "            for r in range(h):\n",
    "                for c in range(w):\n",
    "                    if cell_image[r, c, color] <= cog:\n",
    "                        cell_image[r, c, color] = 0\n",
    "                    else:\n",
    "                        cell_image[r, c, color] = 1\n",
    "        \n",
    "        bins0 = 0\n",
    "        bins1 = 0\n",
    "        bins2 = 0\n",
    "        bins3 = 0\n",
    "        bins4 = 0\n",
    "        bins5 = 0\n",
    "        bins6 = 0\n",
    "        bins7 = 0\n",
    "        for i in range(h):\n",
    "            for j in range(w):\n",
    "                r= cell_image[i,j,0];\n",
    "                g= cell_image[i,j,1];\n",
    "                b= cell_image[i,j,2];\n",
    "        \n",
    "                if r==0 and g==0 and b==0:\n",
    "                        bins0= bins0 + 1\n",
    "                elif r==0 and g==0 and b==1:\n",
    "                        bins1= bins1 + 1\n",
    "                elif r==0 and g==1 and b==0:\n",
    "                        bins2= bins2 + 1\n",
    "                elif r==0 and g==1 and b==1:\n",
    "                        bins3= bins3 + 1\n",
    "                elif r==1 and g==0 and b==0:\n",
    "                        bins4= bins4 + 1\n",
    "                elif r==1 and g==0 and b==1:\n",
    "                        bins5= bins5 + 1\n",
    "                elif r==1 and g==1 and b==0:\n",
    "                        bins6= bins6 + 1\n",
    "                elif r==1 and g==1 and b==1:\n",
    "                        bins7= bins7 + 1\n",
    "                        \n",
    "        l=[]\n",
    "        l.extend([bins0, bins1, bins2, bins3, bins4, bins5, bins6, bins7])\n",
    "        \n",
    "        return l\n",
    "\n",
    "class Root(Tk):\n",
    "    def __init__(self):\n",
    "        super(Root, self).__init__()\n",
    "        self.title(\"Python Tkinter Dialog Widget\")\n",
    "        self.minsize(640, 400)\n",
    "        self.labelFrame = ttk.LabelFrame(self, text = \"Open File\")\n",
    "        self.labelFrame.grid(column = 0, row = 1, padx = 20, pady = 20)\n",
    "        self.button()\n",
    "        self.button1() \n",
    " \n",
    "    def button(self):\n",
    "        self.button = ttk.Button(self.labelFrame, text = \"Browse A File\",command = self.fileDialog)\n",
    "        self.button.grid(column = 1, row = 1)\n",
    "  \n",
    "    def fileDialog(self):\n",
    "        self.filename = filedialog.askopenfilename(initialdir =  \"/\", title = \"Select A File\", filetype =\n",
    "        ((\"png files\",\"*.png\"),(\"all files\",\"*.*\")) )\n",
    "        self.label = ttk.Label(self.labelFrame, text = \"\")\n",
    "        self.label.grid(column = 1, row = 2)\n",
    "        self.label.configure(text = self.filename)\n",
    " \n",
    "    def button1(self):\n",
    "        self.button = ttk.Button(self.labelFrame, text = \"submit\", command = self.get_prediction)\n",
    "        self.button.grid(column = 1, row = 20)\n",
    "        \n",
    "    \n",
    "    def get_prediction(self):\n",
    "        my_image = cv2.imread(self.filename)\n",
    "        dst = cv2.fastNlMeansDenoisingColored(my_image,None,10,10,7,29)\n",
    "        h = getbins(dst)\n",
    "        y=classifier.predict([h])\n",
    "        if(y==1):\n",
    "            self.label.configure(text=\"The Cell Image (using Bins Approach) is Parasitic\")\n",
    "        else:\n",
    "            self.label.configure(text=\"The Cell Image (using Bins Approach) is Non-Parasitic\") \n",
    "root = Root()\n",
    "root.mainloop() "
   ]
  },
  {
   "cell_type": "code",
   "execution_count": null,
   "metadata": {},
   "outputs": [],
   "source": []
  }
 ],
 "metadata": {
  "kernelspec": {
   "display_name": "Python 3",
   "language": "python",
   "name": "python3"
  },
  "language_info": {
   "codemirror_mode": {
    "name": "ipython",
    "version": 3
   },
   "file_extension": ".py",
   "mimetype": "text/x-python",
   "name": "python",
   "nbconvert_exporter": "python",
   "pygments_lexer": "ipython3",
   "version": "3.7.6"
  }
 },
 "nbformat": 4,
 "nbformat_minor": 4
}
